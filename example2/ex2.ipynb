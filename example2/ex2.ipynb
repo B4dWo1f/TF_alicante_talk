{
 "cells": [
  {
   "cell_type": "code",
   "execution_count": null,
   "metadata": {},
   "outputs": [],
   "source": [
    "import numpy as np\n",
    "import matplotlib.pyplot as plt\n",
    "# TensorFlow and tf.keras\n",
    "import tensorflow as tf\n",
    "from tensorflow import keras"
   ]
  },
  {
   "cell_type": "code",
   "execution_count": null,
   "metadata": {},
   "outputs": [],
   "source": [
    "# Load training and testing data\n",
    "n_out = 1   # number of outputs\n",
    "\n",
    "M = np.loadtxt('Spola.train')\n",
    "IN = M[:,:-n_out]\n",
    "OUT = M[:,-n_out:]\n",
    "\n",
    "M = np.loadtxt('Spola.test')\n",
    "IN_test = M[:,:-n_out]\n",
    "OUT_test = M[:,-n_out:]"
   ]
  },
  {
   "cell_type": "code",
   "execution_count": null,
   "metadata": {},
   "outputs": [],
   "source": [
    "print('Read data samples:')\n",
    "print('%s for training  //  %s for testing'%(IN.shape[0],IN_test.shape[0]))\n",
    "print('input dimension: %s'%(IN.shape[1]))\n",
    "print('output dimension: %s'%(OUT.shape[1]))"
   ]
  },
  {
   "cell_type": "markdown",
   "metadata": {},
   "source": [
    "## Visualize the data"
   ]
  },
  {
   "cell_type": "code",
   "execution_count": null,
   "metadata": {},
   "outputs": [],
   "source": [
    "fig = plt.figure()\n",
    "ax = plt.subplot(111, projection='polar')\n",
    "\n",
    "# Plot Expected outputs\n",
    "# this is just a fancy polar plot, the relevant lines are just the scatter\n",
    "X = IN_test[:,0]\n",
    "Y = IN_test[:,1]\n",
    "Z = OUT_test.flatten()\n",
    "ax.scatter(Y,X,c=Z)  # plot the expected result\n",
    "ax.set_rmax(36)\n",
    "ax.set_theta_zero_location(\"N\")\n",
    "ax.set_title('Expected output',y=1.1)\n",
    "ax.set_xticklabels(['N', '', 'W', '', 'S', '', 'E', ''])\n",
    "ax.set_rlabel_position(45)"
   ]
  },
  {
   "cell_type": "markdown",
   "metadata": {},
   "source": [
    "## Build the model"
   ]
  },
  {
   "cell_type": "code",
   "execution_count": null,
   "metadata": {},
   "outputs": [],
   "source": [
    "model = keras.Sequential([keras.layers.Dense(2, activation=None, input_shape=(2,)),\n",
    "                          keras.layers.Dense(5, activation=tf.nn.softmax),\n",
    "                          keras.layers.Dense(1, activation=tf.nn.relu) ])"
   ]
  },
  {
   "cell_type": "code",
   "execution_count": null,
   "metadata": {},
   "outputs": [],
   "source": [
    "model.compile(optimizer = 'adam',\n",
    "              loss = 'mean_squared_error',\n",
    "              metrics = ['accuracy'])"
   ]
  },
  {
   "cell_type": "markdown",
   "metadata": {},
   "source": [
    "### Training"
   ]
  },
  {
   "cell_type": "code",
   "execution_count": null,
   "metadata": {},
   "outputs": [],
   "source": [
    "history = model.fit(IN, OUT, epochs = 500,\n",
    "                    validation_data = (IN_test, OUT_test),\n",
    "                    verbose=0)"
   ]
  },
  {
   "cell_type": "code",
   "execution_count": null,
   "metadata": {},
   "outputs": [],
   "source": [
    "# Saving the model\n",
    "model.save('spola.h5')"
   ]
  },
  {
   "cell_type": "code",
   "execution_count": null,
   "metadata": {},
   "outputs": [],
   "source": [
    "err = history.history['loss']\n",
    "acc = history.history['accuracy']\n",
    "fig, ax = plt.subplots()\n",
    "ax.plot(err,label='loss')\n",
    "ax.plot(acc,label='accuracy')\n",
    "ax.set_title('Learning curve')\n",
    "plt.show()"
   ]
  },
  {
   "cell_type": "markdown",
   "metadata": {},
   "source": [
    "## Check the result"
   ]
  },
  {
   "cell_type": "code",
   "execution_count": null,
   "metadata": {},
   "outputs": [],
   "source": [
    "# Calculate & plot results\n",
    "OUT_predict = model.predict(IN_test)"
   ]
  },
  {
   "cell_type": "code",
   "execution_count": null,
   "metadata": {},
   "outputs": [],
   "source": [
    "fig = plt.figure()\n",
    "ax0 = plt.subplot(121, projection='polar')   # expected\n",
    "ax1 = plt.subplot(122, projection='polar')   # predicted\n",
    "\n",
    "#fig.suptitle(\"$Neural$ $Network$\", fontsize=30)\n",
    "\n",
    "# Plot Expected outputs\n",
    "# this is just a fancy polar plot, the relevant lines are just the scatter\n",
    "X = IN_test[:,0]\n",
    "Y = IN_test[:,1]\n",
    "Z = OUT_test.flatten()\n",
    "ax0.scatter(Y,X,c=Z)  # plot the expected result\n",
    "ax0.set_rmax(36)\n",
    "ax0.set_theta_zero_location(\"N\")\n",
    "ax0.set_title('Expected output',y=1.1)\n",
    "ax0.set_xticklabels(['N', '', 'W', '', 'S', '', 'E', ''])\n",
    "ax0.set_rlabel_position(45)\n",
    "\n",
    "# Plot Predicted outputs\n",
    "X = IN_test[:,0]\n",
    "Y = IN_test[:,1]\n",
    "Z = OUT_predict.flatten()\n",
    "ax1.scatter(Y,X,c=Z)  # plot the predicted result\n",
    "ax1.set_rmax(36)\n",
    "ax1.set_theta_zero_location(\"N\")\n",
    "ax1.set_title('Predicted output',y=1.1)\n",
    "ax1.set_xticklabels(['N', '', 'W', '', 'S', '', 'E', ''])\n",
    "ax1.set_rlabel_position(45)\n",
    "\n",
    "fig.tight_layout()\n",
    "plt.show()"
   ]
  }
 ],
 "metadata": {
  "kernelspec": {
   "display_name": "Python 3",
   "language": "python",
   "name": "python3"
  },
  "language_info": {
   "codemirror_mode": {
    "name": "ipython",
    "version": 3
   },
   "file_extension": ".py",
   "mimetype": "text/x-python",
   "name": "python",
   "nbconvert_exporter": "python",
   "pygments_lexer": "ipython3",
   "version": "3.6.7"
  }
 },
 "nbformat": 4,
 "nbformat_minor": 2
}
