{
 "cells": [
  {
   "cell_type": "code",
   "execution_count": null,
   "metadata": {},
   "outputs": [],
   "source": [
    "# optional, only for Jupyter\n",
    "%matplotlib notebook\n",
    "\n",
    "# General libraries\n",
    "import numpy as np                # to deal with arrays, vectors, matrices...\n",
    "import matplotlib.pyplot as plt   # to plot the data\n",
    "import matplotlib.gridspec as gridspec\n",
    "\n",
    "# Tensorflow\n",
    "import os\n",
    "HOME = os.getenv('HOME')\n",
    "os.environ['TF_CPP_MIN_LOG_LEVEL'] = '3'  # to get rid of the TF compilation warnings\n",
    "import tensorflow as tf\n",
    "from tensorflow.keras import models, datasets\n",
    "from tensorflow.keras.layers import Dense, Flatten, Conv2D, MaxPooling2D, Dropout"
   ]
  },
  {
   "cell_type": "code",
   "execution_count": null,
   "metadata": {},
   "outputs": [],
   "source": [
    "# Only because my system-wide config is tuned, you don't need these lines\n",
    "import matplotlib as mpl\n",
    "mpl.rcParams['figure.figsize'] = 5,3\n",
    "mpl.rcParams['font.size'] = 6.0"
   ]
  },
  {
   "cell_type": "code",
   "execution_count": null,
   "metadata": {},
   "outputs": [],
   "source": [
    "# Download data\n",
    "(train_images, train_labels), (test_images, test_labels) = datasets.cifar10.load_data()\n",
    "\n",
    "# Normalize pixel values to be between 0 and 1\n",
    "train_images, test_images = train_images / 255.0, test_images / 255.0\n",
    "# cast to float32 to save ram\n",
    "train_images = tf.cast(train_images, tf.float32)\n",
    "test_images  = tf.cast(test_images, tf.float32)\n",
    "inp_shape = train_images.shape[1:]\n",
    "\n",
    "print(train_images.shape)\n",
    "class_names = ['airplane', 'car', 'bird', 'cat', 'deer',\n",
    "               'dog', 'frog', 'horse', 'ship', 'truck']"
   ]
  },
  {
   "cell_type": "code",
   "execution_count": null,
   "metadata": {},
   "outputs": [],
   "source": [
    "print(inp_shape)\n",
    "print(type(train_images))\n",
    "print(train_images.dtype)"
   ]
  },
  {
   "cell_type": "code",
   "execution_count": null,
   "metadata": {},
   "outputs": [],
   "source": [
    "# n Random examples\n",
    "n = 3\n",
    "samples = np.random.choice(np.array(range(train_images.shape[0])), n*n)\n",
    "\n",
    "fig, ax = plt.subplots(figsize=(4,4))\n",
    "gs = gridspec.GridSpec(n, n)\n",
    "axs = []\n",
    "for i in range(n):\n",
    "    for j in range(n):\n",
    "        axs.append( plt.subplot(gs[i,j]) )\n",
    "\n",
    "for i in range(len(samples)):\n",
    "    ax = axs[i]\n",
    "    ind = samples [i]\n",
    "    img = train_images[ind,:,:]\n",
    "    label = class_names[train_labels[ind][0]]\n",
    "    #predicted = class_names[np.argmax(predictions[ind])]\n",
    "    ax.imshow(img)\n",
    "    ax.set_xticks([])\n",
    "    ax.set_yticks([])\n",
    "    ax.set_ylabel(label)\n",
    "plt.show()"
   ]
  },
  {
   "cell_type": "code",
   "execution_count": null,
   "metadata": {},
   "outputs": [],
   "source": [
    "# model = models.Sequential()\n",
    "# model.add(Flatten(input_shape=inp_shape))\n",
    "# model.add(Dense(512, activation='relu'))\n",
    "# model.add(Dense(100, activation='relu'))\n",
    "# model.add(Dense(10, activation='softmax'))\n",
    "\n",
    "# model.summary()"
   ]
  },
  {
   "cell_type": "code",
   "execution_count": null,
   "metadata": {},
   "outputs": [],
   "source": [
    "model = models.Sequential()\n",
    "model.add(Conv2D(32, (3, 3), activation='relu', input_shape=(32, 32, 3)))\n",
    "model.add(MaxPooling2D((2, 2)))\n",
    "model.add(Dropout(0.3))\n",
    "model.add(Conv2D(64, (3, 3), activation='relu'))\n",
    "model.add(MaxPooling2D((2, 2)))\n",
    "model.add(Dropout(0.5))\n",
    "model.add(Conv2D(64, (3, 3), activation='relu'))\n",
    "model.add(Flatten())\n",
    "model.add(Dense(64, activation='relu'))\n",
    "model.add(Dense(10, activation='softmax'))\n",
    "\n",
    "model.summary()"
   ]
  },
  {
   "cell_type": "markdown",
   "metadata": {},
   "source": [
    "The last layer was Dense with no activation, so the last activation was a ReLu function which ranges from 0 to inf, so the error must account for that. Two options:\n",
    "- add a *softmax* activation in the last layer\n",
    "- use \"*from_logits*\" in the error"
   ]
  },
  {
   "cell_type": "code",
   "execution_count": null,
   "metadata": {},
   "outputs": [],
   "source": [
    "model.compile(optimizer='adam',\n",
    "              loss='sparse_categorical_crossentropy', #SparseCategoricalCrossentropy(from_logits=True),\n",
    "              metrics=['accuracy'])"
   ]
  },
  {
   "cell_type": "code",
   "execution_count": null,
   "metadata": {
    "scrolled": true
   },
   "outputs": [],
   "source": [
    "test_loss, test_acc = model.evaluate(test_images,  test_labels, verbose=0)\n",
    "print(f'Pre-training accuracy: {test_acc*100:.2f}%')\n",
    "from time import time\n",
    "told = time()\n",
    "history = model.fit(train_images, train_labels, epochs=15,\n",
    "                    validation_data=(test_images, test_labels),\n",
    "                    #validation_split=0.2)\n",
    "                    verbose=1)\n",
    "print(f'Trained in: {time()-told}s')"
   ]
  },
  {
   "cell_type": "code",
   "execution_count": null,
   "metadata": {},
   "outputs": [],
   "source": [
    "test_loss, test_acc = model.evaluate(test_images,  test_labels, verbose=2)\n",
    "print(f'Training accuracy: {test_acc*100:.2f}%')"
   ]
  },
  {
   "cell_type": "code",
   "execution_count": null,
   "metadata": {},
   "outputs": [],
   "source": [
    "# plot learning curve\n",
    "err = history.history['loss']\n",
    "val_err = history.history['val_loss']\n",
    "acc = history.history['accuracy']\n",
    "val_acc = history.history['val_accuracy']\n",
    "\n",
    "# Plots grid\n",
    "fig, ax = plt.subplots(figsize=(5,5))\n",
    "gs = gridspec.GridSpec(2, 1)\n",
    "ax0 = plt.subplot(gs[0, 0])\n",
    "ax1 = plt.subplot(gs[1, 0])\n",
    "\n",
    "# Loss plots\n",
    "ax0.plot(err, label='Train')\n",
    "ax0.plot(val_err, label='Test')\n",
    "ax0.set_ylabel('Loss')\n",
    "\n",
    "# Accuracy plots\n",
    "ax1.plot(acc,label='Train')\n",
    "ax1.plot(val_acc,label='Test')\n",
    "ax1.set_ylabel('Accuracy')\n",
    "\n",
    "# General settings\n",
    "ax0.set_title('Learning curve')\n",
    "plt.show()"
   ]
  },
  {
   "cell_type": "code",
   "execution_count": null,
   "metadata": {},
   "outputs": [],
   "source": [
    "# Show Results\n",
    "predictions = model.predict(test_images)"
   ]
  },
  {
   "cell_type": "code",
   "execution_count": null,
   "metadata": {},
   "outputs": [],
   "source": [
    "# n Random examples\n",
    "n = 3\n",
    "samples = np.random.choice(np.array(range(test_images.shape[0])), n*n)\n",
    "\n",
    "fig, ax = plt.subplots(figsize=(4,4))\n",
    "gs = gridspec.GridSpec(n, n)\n",
    "axs = []\n",
    "for i in range(n):\n",
    "    for j in range(n):\n",
    "        axs.append( plt.subplot(gs[i,j]) )\n",
    "\n",
    "for i in range(len(samples)):\n",
    "    ax = axs[i]\n",
    "    ind = samples [i]\n",
    "    img = test_images[ind,:,:]\n",
    "    label = test_labels[ind]\n",
    "    predicted = class_names[np.argmax(predictions[ind])]\n",
    "    ax.imshow(img)\n",
    "    ax.set_xticks([])\n",
    "    ax.set_yticks([])\n",
    "    ax.set_ylabel(predicted)\n",
    "plt.show()"
   ]
  },
  {
   "cell_type": "code",
   "execution_count": null,
   "metadata": {},
   "outputs": [],
   "source": [
    "# model.save('cifar.h5')"
   ]
  }
 ],
 "metadata": {
  "kernelspec": {
   "display_name": "Python 3",
   "language": "python",
   "name": "python3"
  },
  "language_info": {
   "codemirror_mode": {
    "name": "ipython",
    "version": 3
   },
   "file_extension": ".py",
   "mimetype": "text/x-python",
   "name": "python",
   "nbconvert_exporter": "python",
   "pygments_lexer": "ipython3",
   "version": "3.6.9"
  }
 },
 "nbformat": 4,
 "nbformat_minor": 4
}
