{
 "cells": [
  {
   "cell_type": "code",
   "execution_count": null,
   "metadata": {},
   "outputs": [],
   "source": [
    "# optional, only for Jupyter\n",
    "%matplotlib notebook\n",
    "\n",
    "# General libraries\n",
    "import numpy as np                # to deal with arrays, vectors, matrices...\n",
    "import matplotlib.pyplot as plt   # to plot the data\n",
    "import matplotlib.gridspec as gridspec\n",
    "\n",
    "# Tensorflow\n",
    "import os\n",
    "HOME = os.getenv('HOME')\n",
    "os.environ['TF_CPP_MIN_LOG_LEVEL'] = '3'  # to get rid of the TF compilation warnings\n",
    "import tensorflow as tf\n",
    "from tensorflow.keras import models\n",
    "from tensorflow.keras.layers import Dense, Flatten, Conv2D, MaxPooling2D"
   ]
  },
  {
   "cell_type": "code",
   "execution_count": null,
   "metadata": {},
   "outputs": [],
   "source": [
    "# Only because my system-wide config is tuned, you don't need these lines\n",
    "import matplotlib as mpl\n",
    "mpl.rcParams['figure.figsize'] = 5,3\n",
    "mpl.rcParams['font.size'] = 12.0"
   ]
  },
  {
   "cell_type": "markdown",
   "metadata": {},
   "source": [
    "## Get the data from the public MNIST library\n",
    "Each sample is a $28\\times28$ picture of handwritten numbers.  \n",
    "The dataset will have dimension $N\\times28\\times28$"
   ]
  },
  {
   "cell_type": "code",
   "execution_count": null,
   "metadata": {},
   "outputs": [],
   "source": [
    "mnist = tf.keras.datasets.mnist\n",
    "(x_train, y_train),(x_test, y_test) = mnist.load_data()\n",
    "\n",
    "# Normalize pixel values\n",
    "x_train, x_test = x_train/255, x_test/255\n",
    "\n",
    "# Fix dimensions: (Nsamples, width, height, channels)\n",
    "x_train = np.expand_dims(x_train, axis=3)\n",
    "y_train = np.expand_dims(y_train, axis=1)\n",
    "x_test = np.expand_dims(x_test, axis=3)\n",
    "y_test = np.expand_dims(y_test, axis=1)\n",
    "\n",
    "# Useful\n",
    "inp_shape = x_train.shape[1:]\n",
    "Nclasses =  len(np.unique(y_train))\n",
    "        \n",
    "# Report dimensions\n",
    "print(f'Training dataset --> images: {x_train.shape}; labels: {y_train.shape}')\n",
    "print(f'Testing dataset  --> images: {x_test.shape}; labels: {y_test.shape}')\n",
    "print(f'N classes: {Nclasses}')"
   ]
  },
  {
   "cell_type": "code",
   "execution_count": null,
   "metadata": {},
   "outputs": [],
   "source": [
    "# choose a random sample\n",
    "ind = np.random.randint(0,x_train.shape[0])\n",
    "\n",
    "img = x_train[ind,:,:,0]\n",
    "print(img.shape)\n",
    "\n",
    "# Plot the sample\n",
    "fig, ax = plt.subplots()\n",
    "ax.imshow(img)\n",
    "ax.set_title(y_train[ind])\n",
    "ax.grid()\n",
    "plt.show()"
   ]
  },
  {
   "cell_type": "code",
   "execution_count": null,
   "metadata": {},
   "outputs": [],
   "source": [
    "# Build the model\n",
    "model = models.Sequential()\n",
    "model.add(Conv2D(32, (3, 3), activation='relu', input_shape=inp_shape))\n",
    "model.add(MaxPooling2D((2, 2)))\n",
    "# model.add(Conv2D(64, (3, 3), activation='relu'))\n",
    "# model.add(MaxPooling2D((2, 2)))\n",
    "# model.add(Conv2D(64, (3, 3), activation='relu'))\n",
    "model.add(Flatten())\n",
    "model.add(Dense(64, activation='relu'))\n",
    "model.add(Dense(Nclasses, activation='softmax'))\n",
    "\n",
    "model.summary()"
   ]
  },
  {
   "cell_type": "code",
   "execution_count": null,
   "metadata": {},
   "outputs": [],
   "source": [
    "model.compile(optimizer='adam',\n",
    "              #loss='sparse_categorical_crossentropy',\n",
    "              loss=tf.keras.losses.SparseCategoricalCrossentropy(), #from_logits=True),\n",
    "              metrics=['accuracy'])"
   ]
  },
  {
   "cell_type": "code",
   "execution_count": null,
   "metadata": {},
   "outputs": [],
   "source": [
    "# Before training, random accuracy\n",
    "loss,acc = model.evaluate(x_test, y_test,verbose=0)\n",
    "print(f'accuracy: {acc*100:.2f}%')\n",
    "\n",
    "# Training\n",
    "from time import time\n",
    "t_old = time()\n",
    "print('Training...')\n",
    "history = model.fit(x_train, y_train, epochs=5,\n",
    "                    validation_data=(x_test, y_test),\n",
    "                    #validation_split=0.1,\n",
    "                    verbose=1)\n",
    "print('...Done in %ss'%(time()-t_old))"
   ]
  },
  {
   "cell_type": "code",
   "execution_count": null,
   "metadata": {},
   "outputs": [],
   "source": [
    "# plot learning curve\n",
    "err = history.history['loss']\n",
    "val_err = history.history['val_loss']\n",
    "acc = history.history['accuracy']\n",
    "val_acc = history.history['val_accuracy']\n",
    "\n",
    "# Plots grid\n",
    "fig, ax = plt.subplots(figsize=(5,5))\n",
    "gs = gridspec.GridSpec(2, 1)\n",
    "ax0 = plt.subplot(gs[0, 0])\n",
    "ax1 = plt.subplot(gs[1, 0])\n",
    "\n",
    "# Loss plots\n",
    "ax0.plot(err, label='Train')\n",
    "ax0.plot(val_err, label='Test')\n",
    "ax0.set_ylabel('Loss')\n",
    "\n",
    "# Accuracy plots\n",
    "ax1.plot(acc,label='Train')\n",
    "ax1.plot(val_acc,label='Test')\n",
    "ax1.set_ylabel('Accuracy')\n",
    "\n",
    "# General settings\n",
    "ax0.set_title('Learning curve')\n",
    "plt.show()"
   ]
  },
  {
   "cell_type": "code",
   "execution_count": null,
   "metadata": {},
   "outputs": [],
   "source": [
    "loss,acc = model.evaluate(x_test, y_test,verbose=0)\n",
    "print(f'accuracy: {acc*100:.2f}%')"
   ]
  },
  {
   "cell_type": "code",
   "execution_count": null,
   "metadata": {},
   "outputs": [],
   "source": [
    "# Show Results\n",
    "predictions = model.predict(x_test)"
   ]
  },
  {
   "cell_type": "code",
   "execution_count": null,
   "metadata": {
    "scrolled": false
   },
   "outputs": [],
   "source": [
    "# 4 Random examples\n",
    "n = 3\n",
    "samples = [np.random.randint(0,x_test.shape[0]) for _ in range(n*n)]\n",
    "\n",
    "fig, ax = plt.subplots(figsize=(5,5))\n",
    "gs = gridspec.GridSpec(n, n)\n",
    "axs = []\n",
    "for i in range(n):\n",
    "    for j in range(n):\n",
    "        axs.append( plt.subplot(gs[i,j]) )\n",
    "\n",
    "for i in range(len(samples)):\n",
    "    ax = axs[i]\n",
    "    ind = samples[i]\n",
    "    img = x_test[ind,:,:,0]\n",
    "    label = y_test[ind]\n",
    "    predicted = np.argmax(predictions[ind])\n",
    "    ax.imshow(img)\n",
    "    ax.set_xticks([])\n",
    "    ax.set_yticks([])\n",
    "    ax.text(1,4, str(predicted),\n",
    "            bbox=dict(boxstyle=\"square\",\n",
    "                      fc='w',\n",
    "                      alpha=0.5) )\n",
    "\n",
    "fig.suptitle(f'Acc: {acc*100:.2f}%')\n",
    "plt.show()"
   ]
  },
  {
   "cell_type": "code",
   "execution_count": null,
   "metadata": {},
   "outputs": [],
   "source": [
    "model.save('mnist_cnn.h5')"
   ]
  },
  {
   "cell_type": "code",
   "execution_count": null,
   "metadata": {},
   "outputs": [],
   "source": []
  }
 ],
 "metadata": {
  "kernelspec": {
   "display_name": "Python 3",
   "language": "python",
   "name": "python3"
  },
  "language_info": {
   "codemirror_mode": {
    "name": "ipython",
    "version": 3
   },
   "file_extension": ".py",
   "mimetype": "text/x-python",
   "name": "python",
   "nbconvert_exporter": "python",
   "pygments_lexer": "ipython3",
   "version": "3.6.9"
  }
 },
 "nbformat": 4,
 "nbformat_minor": 4
}
