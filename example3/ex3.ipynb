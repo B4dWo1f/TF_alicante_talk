{
 "cells": [
  {
   "cell_type": "code",
   "execution_count": null,
   "metadata": {},
   "outputs": [],
   "source": [
    "# optional, only for Jupyter\n",
    "%matplotlib notebook\n",
    "\n",
    "# General libraries\n",
    "import numpy as np                # to deal with arrays, vectors, matrices...\n",
    "import matplotlib.pyplot as plt   # to plot the data\n",
    "import matplotlib.gridspec as gridspec\n",
    "\n",
    "# Tensorflow\n",
    "import os\n",
    "HOME = os.getenv('HOME')\n",
    "os.environ['TF_CPP_MIN_LOG_LEVEL'] = '3'  # to get rid of the TF compilation warnings\n",
    "import tensorflow as tf\n",
    "from tensorflow.keras import models\n",
    "from tensorflow.keras.layers import Dense, Flatten"
   ]
  },
  {
   "cell_type": "code",
   "execution_count": null,
   "metadata": {},
   "outputs": [],
   "source": [
    "# Only because my system-wide config is tuned, you don't need these lines\n",
    "import matplotlib as mpl\n",
    "mpl.rcParams['figure.figsize'] = 5,3\n",
    "mpl.rcParams['font.size'] = 12.0"
   ]
  },
  {
   "cell_type": "markdown",
   "metadata": {},
   "source": [
    "## Get the data from the public MNIST library\n",
    "Each sample is a $28\\times28$ picture of handwritten numbers.  \n",
    "The dataset will have dimension $N\\times28\\times28$"
   ]
  },
  {
   "cell_type": "code",
   "execution_count": null,
   "metadata": {},
   "outputs": [],
   "source": [
    "mnist = tf.keras.datasets.mnist\n",
    "(x_train, y_train),(x_test, y_test) = mnist.load_data()\n",
    "inp_shape = x_train.shape[1:]\n",
    "\n",
    "# Normalize pixel values\n",
    "x_train = x_train/255\n",
    "x_test  = x_test/255\n",
    "x_train = tf.cast(x_train, tf.float32)\n",
    "x_test  = tf.cast(x_test, tf.float32)\n",
    "\n",
    "# Report dimensions\n",
    "print(f'Training: {x_train.shape}')\n",
    "print(f' Testing: {x_test.shape}')"
   ]
  },
  {
   "cell_type": "code",
   "execution_count": null,
   "metadata": {},
   "outputs": [],
   "source": [
    "# choose a random sample\n",
    "ind = np.random.randint(0,x_train.shape[0])\n",
    "\n",
    "img = x_train[ind,:,:]\n",
    "print(img.shape)\n",
    "\n",
    "# Plot the sample\n",
    "fig, ax = plt.subplots()\n",
    "ax.imshow(img)\n",
    "ax.set_title(y_train[ind])\n",
    "ax.grid()\n",
    "plt.show()"
   ]
  },
  {
   "cell_type": "code",
   "execution_count": null,
   "metadata": {},
   "outputs": [],
   "source": [
    "# Build the model\n",
    "model = models.Sequential()\n",
    "model.add( Flatten(input_shape=inp_shape) )\n",
    "model.add( Dense(512, activation='relu') )\n",
    "model.add( Dense(100, activation='relu') )\n",
    "model.add( Dense(10, activation='softmax') )\n",
    "\n",
    "model.summary()"
   ]
  },
  {
   "cell_type": "code",
   "execution_count": null,
   "metadata": {},
   "outputs": [],
   "source": [
    "model.compile(optimizer='adam',\n",
    "              loss='sparse_categorical_crossentropy',\n",
    "              metrics=['accuracy'])"
   ]
  },
  {
   "cell_type": "code",
   "execution_count": null,
   "metadata": {
    "scrolled": true
   },
   "outputs": [],
   "source": [
    "# Training\n",
    "run = True\n",
    "if run:\n",
    "    from time import time\n",
    "    t_old = time()\n",
    "    print('Training...')\n",
    "    history = model.fit(x_train, y_train, epochs=10,\n",
    "                        validation_data = (x_test, y_test),\n",
    "                        verbose=1)\n",
    "    print('...Done in %ss'%(time()-t_old))\n",
    "else:\n",
    "    model = models.load('mnist_mlp.h5')"
   ]
  },
  {
   "cell_type": "code",
   "execution_count": null,
   "metadata": {},
   "outputs": [],
   "source": [
    "# plot learning curve\n",
    "err = history.history['loss']\n",
    "val_err = history.history['val_loss']\n",
    "acc = history.history['accuracy']\n",
    "val_acc = history.history['val_accuracy']\n",
    "\n",
    "# Plots grid\n",
    "fig, ax = plt.subplots(figsize=(5,5))\n",
    "gs = gridspec.GridSpec(2, 1)\n",
    "ax0 = plt.subplot(gs[0, 0])\n",
    "ax1 = plt.subplot(gs[1, 0])\n",
    "\n",
    "# Loss plots\n",
    "ax0.plot(err, label='Train')\n",
    "ax0.plot(val_err, label='Test')\n",
    "ax0.set_ylabel('Loss')\n",
    "\n",
    "# Accuracy plots\n",
    "ax1.plot(acc,label='Train')\n",
    "ax1.plot(val_acc,label='Test')\n",
    "ax1.set_ylabel('Accuracy')\n",
    "\n",
    "# General settings\n",
    "ax0.set_title('Learning curve')\n",
    "plt.show()"
   ]
  },
  {
   "cell_type": "code",
   "execution_count": null,
   "metadata": {},
   "outputs": [],
   "source": [
    "loss,acc = model.evaluate(x_test, y_test,verbose=0)\n",
    "print(f'accuracy: {acc*100:.3f}%')"
   ]
  },
  {
   "cell_type": "code",
   "execution_count": null,
   "metadata": {},
   "outputs": [],
   "source": [
    "# Show Results\n",
    "predictions = model.predict(x_test)"
   ]
  },
  {
   "cell_type": "code",
   "execution_count": null,
   "metadata": {
    "scrolled": false
   },
   "outputs": [],
   "source": [
    "# 4 Random examples\n",
    "samples = [np.random.randint(0,x_test.shape[0]) for _ in range(4)]\n",
    "\n",
    "fig, ax = plt.subplots(figsize=(5,5))\n",
    "gs = gridspec.GridSpec(2, 2)\n",
    "ax0 = plt.subplot(gs[0, 0])\n",
    "ax1 = plt.subplot(gs[0, 1])\n",
    "ax2 = plt.subplot(gs[1, 0])\n",
    "ax3 = plt.subplot(gs[1, 1])\n",
    "\n",
    "axs = [ax0,ax1,ax2,ax3]\n",
    "for i in range(len(samples)):\n",
    "    ax = axs[i]\n",
    "    ind = samples [i]\n",
    "    img = x_test[ind,:,:]\n",
    "    label = y_test[ind]\n",
    "    predicted = np.argmax(predictions[ind])\n",
    "    ax.imshow(img)\n",
    "    ax.set_xticks([])\n",
    "    ax.set_yticks([])\n",
    "    ax.set_title('The NN says: %s'%(predicted))\n",
    "plt.show()"
   ]
  },
  {
   "cell_type": "code",
   "execution_count": null,
   "metadata": {},
   "outputs": [],
   "source": [
    "# model.save('mnist_mlp.h5')"
   ]
  }
 ],
 "metadata": {
  "kernelspec": {
   "display_name": "Python 3",
   "language": "python",
   "name": "python3"
  },
  "language_info": {
   "codemirror_mode": {
    "name": "ipython",
    "version": 3
   },
   "file_extension": ".py",
   "mimetype": "text/x-python",
   "name": "python",
   "nbconvert_exporter": "python",
   "pygments_lexer": "ipython3",
   "version": "3.6.9"
  }
 },
 "nbformat": 4,
 "nbformat_minor": 4
}
