{
 "cells": [
  {
   "cell_type": "code",
   "execution_count": null,
   "metadata": {},
   "outputs": [],
   "source": [
    "import tensorflow as tf\n",
    "import numpy as np\n",
    "from random import randint\n",
    "import matplotlib.pyplot as plt\n",
    "import matplotlib.gridspec as gridspec"
   ]
  },
  {
   "cell_type": "markdown",
   "metadata": {},
   "source": [
    "## Get the data from the public MNIST library\n",
    "Each sample is a $28\\times28$ picture of handwritten numbers.  \n",
    "The dataset will have dimension $N\\times28\\times28$"
   ]
  },
  {
   "cell_type": "code",
   "execution_count": null,
   "metadata": {},
   "outputs": [],
   "source": [
    "mnist = tf.keras.datasets.mnist\n",
    "(x_train, y_train),(x_test, y_test) = mnist.load_data()\n",
    "\n",
    "# Normalize pixel values\n",
    "x_train, x_test = x_train/255.0, x_test/255.0\n",
    "\n",
    "# Report dimensions\n",
    "print('Training dataset:',x_train.shape)\n",
    "print('Testing dataset:',x_test.shape)"
   ]
  },
  {
   "cell_type": "code",
   "execution_count": null,
   "metadata": {},
   "outputs": [],
   "source": [
    "# choose a random sample\n",
    "ind = randint(0,x_train.shape[0])\n",
    "\n",
    "# Plot the sample\n",
    "fig, ax = plt.subplots()\n",
    "ax.imshow(x_train[ind,:,:])\n",
    "ax.grid()\n",
    "plt.show()"
   ]
  },
  {
   "cell_type": "code",
   "execution_count": null,
   "metadata": {},
   "outputs": [],
   "source": [
    "# Build the model\n",
    "model = tf.keras.models.Sequential([\n",
    "                 tf.keras.layers.Flatten(input_shape=(28, 28)),\n",
    "                 tf.keras.layers.Dense(512, activation=tf.nn.relu),\n",
    "                 tf.keras.layers.Dense(100, activation=tf.nn.relu),\n",
    "                 tf.keras.layers.Dense(10, activation=tf.nn.softmax) ])"
   ]
  },
  {
   "cell_type": "code",
   "execution_count": null,
   "metadata": {},
   "outputs": [],
   "source": [
    "model.compile(optimizer='adam',\n",
    "              loss='sparse_categorical_crossentropy',\n",
    "              metrics=['accuracy'])"
   ]
  },
  {
   "cell_type": "code",
   "execution_count": null,
   "metadata": {},
   "outputs": [],
   "source": [
    "# Training\n",
    "from time import time\n",
    "t_old = time()\n",
    "print('Training...')\n",
    "history = model.fit(x_train, y_train, epochs=10,\n",
    "                    verbose=0)\n",
    "print('...Done in %ss'%(time()-t_old))\n",
    "model.save('mnist.h5')"
   ]
  },
  {
   "cell_type": "code",
   "execution_count": null,
   "metadata": {},
   "outputs": [],
   "source": [
    "# plot learning curve\n",
    "err = history.history['loss']\n",
    "acc = history.history['accuracy']\n",
    "fig, ax = plt.subplots()\n",
    "ax.plot(err,label='loss')\n",
    "ax.plot(acc,label='accuracy')\n",
    "ax.set_title('Learning curve')\n",
    "plt.show()"
   ]
  },
  {
   "cell_type": "code",
   "execution_count": null,
   "metadata": {},
   "outputs": [],
   "source": [
    "loss,acc = model.evaluate(x_test, y_test,verbose=0)\n",
    "print('accuracy:',acc)"
   ]
  },
  {
   "cell_type": "code",
   "execution_count": null,
   "metadata": {},
   "outputs": [],
   "source": [
    "# Show Results\n",
    "predictions = model.predict(x_test)"
   ]
  },
  {
   "cell_type": "code",
   "execution_count": null,
   "metadata": {},
   "outputs": [],
   "source": [
    "# 4 Random examples\n",
    "samples = [randint(0,x_test.shape[0]) for _ in range(4)]\n",
    "\n",
    "fig, ax = plt.subplots()\n",
    "gs = gridspec.GridSpec(2, 2)\n",
    "ax0 = plt.subplot(gs[0, 0])\n",
    "ax1 = plt.subplot(gs[0, 1])\n",
    "ax2 = plt.subplot(gs[1, 0])\n",
    "ax3 = plt.subplot(gs[1, 1])\n",
    "\n",
    "axs = [ax0,ax1,ax2,ax3]\n",
    "for i in range(len(samples)):\n",
    "   ax = axs[i]\n",
    "   ind = samples [i]\n",
    "   img = x_test[ind,:,:]\n",
    "   label = y_test[ind]\n",
    "   predicted = np.argmax(predictions[ind])\n",
    "   ax.imshow(img)\n",
    "   ax.set_xticks([])\n",
    "   ax.set_yticks([])\n",
    "   ax.set_title('The NN says: %s'%(predicted))\n",
    "plt.show()"
   ]
  }
 ],
 "metadata": {
  "kernelspec": {
   "display_name": "Python 3",
   "language": "python",
   "name": "python3"
  },
  "language_info": {
   "codemirror_mode": {
    "name": "ipython",
    "version": 3
   },
   "file_extension": ".py",
   "mimetype": "text/x-python",
   "name": "python",
   "nbconvert_exporter": "python",
   "pygments_lexer": "ipython3",
   "version": "3.6.7"
  }
 },
 "nbformat": 4,
 "nbformat_minor": 2
}
