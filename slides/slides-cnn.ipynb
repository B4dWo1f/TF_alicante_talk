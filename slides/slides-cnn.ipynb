{
 "cells": [
  {
   "cell_type": "markdown",
   "metadata": {
    "slideshow": {
     "slide_type": "slide"
    }
   },
   "source": [
    "# Expanding these ideas\n",
    "\n",
    "Consider an architecture such as this\n",
    "\n",
    "<img src='autoencoder0.svg'>"
   ]
  },
  {
   "cell_type": "markdown",
   "metadata": {
    "slideshow": {
     "slide_type": "subslide"
    }
   },
   "source": [
    "# Expanding these ideas\n",
    "\n",
    "Consider an architecture such as this\n",
    "\n",
    "<img src='autoencoder1.svg'>"
   ]
  },
  {
   "cell_type": "markdown",
   "metadata": {
    "slideshow": {
     "slide_type": "subslide"
    }
   },
   "source": [
    "# Expanding these ideas\n",
    "\n",
    "Consider an architecture such as this\n",
    "\n",
    "<img src='autoencoder2.svg'>"
   ]
  },
  {
   "cell_type": "markdown",
   "metadata": {
    "slideshow": {
     "slide_type": "slide"
    }
   },
   "source": [
    "# One step further\n",
    "\n",
    "## Image Recognition\n",
    "\n",
    "<br>\n",
    "<center><img src=\"cnn0.svg\" style=\"width: 400px;\"/></center>\n",
    "<br>"
   ]
  },
  {
   "cell_type": "markdown",
   "metadata": {
    "slideshow": {
     "slide_type": "subslide"
    }
   },
   "source": [
    "# One step further\n",
    "\n",
    "## Image Recognition\n",
    "\n",
    "<br>\n",
    "<center><img src=\"cnn00.svg\" style=\"width: 400px;\"/></center>\n",
    "<br>"
   ]
  },
  {
   "cell_type": "markdown",
   "metadata": {
    "slideshow": {
     "slide_type": "subslide"
    }
   },
   "source": [
    "# One step further\n",
    "\n",
    "## Image Recognition\n",
    "\n",
    "<br>\n",
    "<center><img src=\"cnn1.svg\" style=\"width: 400px;\"/></center>\n",
    "<br>"
   ]
  },
  {
   "cell_type": "markdown",
   "metadata": {
    "slideshow": {
     "slide_type": "subslide"
    }
   },
   "source": [
    "# One step further\n",
    "\n",
    "## Image Recognition\n",
    "\n",
    "<br>\n",
    "<center><img src=\"cnn2.svg\" style=\"width: 400px;\"/></center>\n",
    "<br>"
   ]
  },
  {
   "cell_type": "markdown",
   "metadata": {
    "slideshow": {
     "slide_type": "subslide"
    }
   },
   "source": [
    "# One step further\n",
    "\n",
    "## Image Recognition\n",
    "\n",
    "<br>\n",
    "<center><img src=\"cnn3.svg\" style=\"width: 400px;\"/></center>\n",
    "<br>"
   ]
  },
  {
   "cell_type": "markdown",
   "metadata": {
    "slideshow": {
     "slide_type": "subslide"
    }
   },
   "source": [
    "# One step further\n",
    "\n",
    "## Image Recognition\n",
    "\n",
    "<br>\n",
    "<center><img src=\"cnn4.svg\" style=\"width: 400px;\"/></center>\n",
    "<br>"
   ]
  },
  {
   "cell_type": "markdown",
   "metadata": {
    "slideshow": {
     "slide_type": "slide"
    }
   },
   "source": [
    "# One step further\n",
    "\n",
    "## Spatial correlations\n",
    "\n",
    "<br>\n",
    "<center><img src=\"cnn_face0.svg\" style=\"width: 400px;\"/></center>\n",
    "<br>"
   ]
  },
  {
   "cell_type": "markdown",
   "metadata": {
    "slideshow": {
     "slide_type": "subslide"
    }
   },
   "source": [
    "# One step further\n",
    "\n",
    "## Spatial correlations\n",
    "\n",
    "<br>\n",
    "<center><img src=\"cnn_face1.svg\" style=\"width: 400px;\"/></center>\n",
    "<br>"
   ]
  },
  {
   "cell_type": "markdown",
   "metadata": {
    "slideshow": {
     "slide_type": "subslide"
    }
   },
   "source": [
    "# One step further\n",
    "\n",
    "## Spatial correlations\n",
    "\n",
    "<br>\n",
    "<center><img src=\"cnn_face2.svg\" style=\"width: 400px;\"/></center>\n",
    "<br>"
   ]
  },
  {
   "cell_type": "markdown",
   "metadata": {
    "slideshow": {
     "slide_type": "subslide"
    }
   },
   "source": [
    "# One step further\n",
    "\n",
    "## Spatial correlations...\n",
    "\n",
    "<br>\n",
    "<center><img src=\"cnn_face3.svg\" style=\"width: 400px;\"/></center>\n",
    "<br>"
   ]
  },
  {
   "cell_type": "markdown",
   "metadata": {
    "slideshow": {
     "slide_type": "slide"
    }
   },
   "source": [
    "# One step further\n",
    "\n",
    "## ...Convolutions\n",
    "<br>\n",
    "<center><img src=\"cnn_face4.svg\" style=\"width: 400px;\"/></center>\n",
    "<br>"
   ]
  },
  {
   "cell_type": "markdown",
   "metadata": {
    "slideshow": {
     "slide_type": "subslide"
    }
   },
   "source": [
    "# One step further\n",
    "\n",
    "## ...Convolutions\n",
    "<br>\n",
    "<center><img src=\"cnn_face5.svg\" style=\"width: 400px;\"/></center>\n",
    "<br>"
   ]
  },
  {
   "cell_type": "markdown",
   "metadata": {
    "slideshow": {
     "slide_type": "subslide"
    }
   },
   "source": [
    "# One step further\n",
    "\n",
    "## ...Convolutions\n",
    "<br>\n",
    "<center><img src=\"cnn_face6.svg\" style=\"width: 400px;\"/></center>\n",
    "<br>"
   ]
  },
  {
   "cell_type": "markdown",
   "metadata": {
    "slideshow": {
     "slide_type": "subslide"
    }
   },
   "source": [
    "# One step further\n",
    "\n",
    "## ...Convolutions\n",
    "<br>\n",
    "<center><img src=\"cnn_face7.svg\" style=\"width: 400px;\"/></center>\n",
    "<br>"
   ]
  },
  {
   "cell_type": "markdown",
   "metadata": {
    "slideshow": {
     "slide_type": "subslide"
    }
   },
   "source": [
    "# One step further\n",
    "\n",
    "## ...Convolutions\n",
    "<br>\n",
    "<center><img src=\"cnn_face8.svg\" style=\"width: 400px;\"/></center>\n",
    "<br>"
   ]
  },
  {
   "cell_type": "markdown",
   "metadata": {
    "slideshow": {
     "slide_type": "slide"
    }
   },
   "source": [
    "# One step further\n",
    "\n",
    "## Details\n",
    "\n",
    "- Size of Input data should be:\n",
    "$$ X = N_{samples}\\times W\\text{idth}\\times H\\text{eight}\\times C\\text{hannels} $$\n",
    "(could also be (N,C,W,H), but the default is the former option)\n",
    "<br>\n",
    "- Classification output should be a vector with $size = N_{\\text{classes}}$\n",
    "  - We can still use the label (1,2,3,...), but specify that those are labels and the output should be a vector."
   ]
  }
 ],
 "metadata": {
  "celltoolbar": "Slideshow",
  "kernelspec": {
   "display_name": "Python 3",
   "language": "python",
   "name": "python3"
  },
  "language_info": {
   "codemirror_mode": {
    "name": "ipython",
    "version": 3
   },
   "file_extension": ".py",
   "mimetype": "text/x-python",
   "name": "python",
   "nbconvert_exporter": "python",
   "pygments_lexer": "ipython3",
   "version": "3.6.9"
  },
  "rise": {
   "height": 768,
   "width": 1024
  }
 },
 "nbformat": 4,
 "nbformat_minor": 2
}
